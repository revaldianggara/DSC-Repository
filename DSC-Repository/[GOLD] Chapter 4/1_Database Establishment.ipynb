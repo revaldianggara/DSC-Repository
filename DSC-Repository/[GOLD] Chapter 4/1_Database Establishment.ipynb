{
 "cells": [
  {
   "cell_type": "markdown",
   "metadata": {},
   "source": [
    "# 1. SQLite3 Database Establishment\n",
    "\n",
    "To use SQLite3 in Python, first of all, you will have to import the sqlite3 module and then create a connection object which will connect us to the database and will let us execute the SQL statements.\n",
    "\n",
    "Tutorial Reference: https://likegeeks.com/python-sqlite3-tutorial/\n",
    "\n",
    "A connection object is created using the `connect()` function:\n",
    "\n",
    "```python\n",
    "# Import sqlite3 and create connection to create a new database .db\n",
    "import sqlite3\n",
    "\n",
    "connection = sqlite3.connect('database/db1_Establishment.db')\n",
    "```"
   ]
  },
  {
   "cell_type": "code",
   "execution_count": null,
   "metadata": {},
   "outputs": [],
   "source": [
    "import sqlite3\n",
    "connection = sqlite3.connect('mysqlsampledatabase.sql')"
   ]
  },
  {
   "cell_type": "code",
   "execution_count": null,
   "metadata": {},
   "outputs": [],
   "source": []
  },
  {
   "cell_type": "markdown",
   "metadata": {},
   "source": [
    "A new file called `test.db` will be created where our database will be stored.\n",
    "\n",
    "**To Do:** Check your folder whether the db is created or not"
   ]
  },
  {
   "cell_type": "code",
   "execution_count": 13,
   "metadata": {},
   "outputs": [],
   "source": [
    "connection = sqlite3.connect('database/test.db')"
   ]
  },
  {
   "cell_type": "code",
   "execution_count": null,
   "metadata": {},
   "outputs": [],
   "source": []
  },
  {
   "cell_type": "markdown",
   "metadata": {},
   "source": [
    "## SQLite3 Cursor\n",
    "\n",
    "To execute SQLite statements in Python, you need a cursor object. You can create it using the `cursor()` method.\n",
    "\n",
    "The SQLite3 cursor is a method of the connection object. To execute the SQLite3 statements, a connection is established at first and then an object of the cursor is created using the connection object as follows:\n",
    "\n",
    "```python\n",
    "# Create cursor object after establish connection\n",
    "connection = sqlite3.connect('database/db1_Establishment.db')\n",
    "\n",
    "cursorObj = connection.cursor()\n",
    "```"
   ]
  },
  {
   "cell_type": "code",
   "execution_count": 32,
   "metadata": {},
   "outputs": [],
   "source": [
    "conn = sqlite3.connect('database/test_db.db')\n",
    "cursorobj = conn.cursor()"
   ]
  },
  {
   "cell_type": "code",
   "execution_count": 3,
   "metadata": {},
   "outputs": [],
   "source": []
  },
  {
   "cell_type": "markdown",
   "metadata": {},
   "source": [
    "Now we can use the cursor object to call the `execute()` method to execute any SQL queries.\n",
    "\n",
    "\n",
    "## Create Table\n",
    "To create a table in SQLite3, you can use the Create Table query in the `execute()` method. Consider the following steps:\n",
    "\n",
    "1. The connection object is created\n",
    "2. Cursor object is created using the connection object\n",
    "3. Using cursor object, execute method is called with create table query as the parameter\n",
    "\n",
    "Let’s create employees with the following attributes:\n",
    "\n",
    "```sql\n",
    "employees (id, name, salary, department, position, hireDate)\n",
    "```\n",
    "\n",
    "```python\n",
    "# Drop Table If Exist first (Best Practice when creating new table)\n",
    "cursorObj.execute(\"DROP TABLE IF EXISTS employees\")\n",
    "connection.commit()\n",
    "\n",
    "# Execute command from cursor object then do the commit\n",
    "cursorObj.execute(\"CREATE TABLE employees(id integer PRIMARY KEY, name test, salary real, department text, position text, hiredDate text)\")\n",
    "connection.commit()\n",
    "```"
   ]
  },
  {
   "cell_type": "code",
   "execution_count": 33,
   "metadata": {},
   "outputs": [],
   "source": [
    "cursorobj.execute(\"CREATE TABLE employees(id integer PRIMARY KEY, name text, salary real, department txt, position text, hiredDate text)\")\n",
    "conn.commit()"
   ]
  },
  {
   "cell_type": "markdown",
   "metadata": {},
   "source": [
    "## Insert in Table\n",
    "To insert data in a table, we use the **INSERT INTO** statement. Consider the following line of code:\n",
    "\n",
    "```python\n",
    "# Insert row/values into table\n",
    "cursorObj.execute(\"INSERT INTO employees VALUES(1, 'John', 700, 'HR', 'Manager', '2017-01-04')\")\n",
    "connection.commit()\n",
    "```"
   ]
  },
  {
   "cell_type": "code",
   "execution_count": 34,
   "metadata": {},
   "outputs": [],
   "source": [
    "# cursorobj.execute(\"DROP TABLE IF EXISTS employees\")\n",
    "# conn.commit()\n",
    "\n",
    "cursorobj.execute(\"INSERT INTO employees VALUES(1, 'Michale', 600, 'HR', 'Manager', '2017-01-04')\")\n",
    "conn.commit()"
   ]
  },
  {
   "cell_type": "code",
   "execution_count": null,
   "metadata": {},
   "outputs": [],
   "source": []
  },
  {
   "cell_type": "markdown",
   "metadata": {},
   "source": [
    "We can also pass `values/arguments` to an **INSERT** statement in the execute() method. You can use the `question mark (?)` as a placeholder for each value. The syntax of the **INSERT** will be like the following:\n",
    "\n",
    "```python\n",
    "# Create variable of values/arguments\n",
    "entities = (2, 'Andrew', 800, 'IT', 'Tech', '2018-02-06')\n",
    "\n",
    "# Execute INSERT statement\n",
    "cursorObj.execute('''INSERT INTO employees(id, name, salary, department, position, hiredDate) VALUES(?, ?, ?, ?, ?, ?)''', \n",
    "                  entities)\n",
    "connection.commit()\n",
    "```"
   ]
  },
  {
   "cell_type": "code",
   "execution_count": 35,
   "metadata": {},
   "outputs": [],
   "source": [
    "entities = (2, 'Andrew', 800, 'IT', 'Tech', '2018-02-06')\n",
    "\n",
    "# Execute INSERT statement\n",
    "cursorobj.execute('''INSERT INTO employees(id, name, salary, department, position, hiredDate) VALUES(?, ?, ?, ?, ?, ?)''', \n",
    "                  entities)\n",
    "conn.commit()"
   ]
  },
  {
   "cell_type": "markdown",
   "metadata": {},
   "source": [
    "## Insert in Table using Loop\n",
    "We can also use question mark formatting to insert data to table inside the for loop statement in python.\n",
    "\n",
    "```python\n",
    "# Create variable of list contain values/arguments\n",
    "entities = [(3, 'Phillip', 750, 'Finance', 'Accounting', '2016-05-12'),\n",
    "            (4, 'Andreas', 650, 'HR', 'Admin', '2018-08-22'),\n",
    "            (5, 'Trias', 920, 'Tech', 'Manager', '2012-01-29')]\n",
    "\n",
    "# Execute INSERT statement inside loop\n",
    "for entity in entities:\n",
    "    cursorObj.execute('''INSERT INTO employees(id, name, salary, department, position, hiredDate) VALUES(?, ?, ?, ?, ?, ?)''', \n",
    "                      entity)\n",
    "    connection.commit()\n",
    "```"
   ]
  },
  {
   "cell_type": "code",
   "execution_count": 36,
   "metadata": {},
   "outputs": [],
   "source": [
    "entities = [(3, 'Phillip', 750, 'Finance', 'Accounting', '2016-05-12'),\n",
    "            (4, 'Andreas', 650, 'HR', 'Admin', '2018-08-22'),\n",
    "            (5, 'Trias', 920, 'Tech', 'Manager', '2012-01-29')]\n",
    "\n",
    "# Execute INSERT statement inside loop\n",
    "for entity in entities:\n",
    "    cursorobj.execute('''INSERT INTO employees(id, name, salary, department, position, hiredDate) VALUES(?, ?, ?, ?, ?, ?)''', \n",
    "                      entity)\n",
    "    conn.commit()"
   ]
  },
  {
   "cell_type": "markdown",
   "metadata": {},
   "source": [
    "## Update Table\n",
    "To update the table simply create a connection, then create a cursor object using the connection and finally use the **UPDATE** statement in the `execute()` method.\n",
    "\n",
    "Suppose that we want to update the `name of the employee whose id equals 2`. For updating, we will use the **UPDATE** statement and for the employee whose id equals 2. We will use the **WHERE** clause as a condition to select this employee.\n",
    "\n",
    "Consider the following code:\n",
    "\n",
    "```python\n",
    "# Update table using UPDATE and WHERE statement\n",
    "cursorObj.execute('UPDATE employees SET name = \"Rogers\" where id = 2')\n",
    "connection.commit()\n",
    "```"
   ]
  },
  {
   "cell_type": "code",
   "execution_count": 37,
   "metadata": {},
   "outputs": [],
   "source": [
    "cursorobj.execute('UPDATE employees SET name = \"Rogers\" where id = 2')\n",
    "conn.commit()"
   ]
  },
  {
   "cell_type": "markdown",
   "metadata": {},
   "source": [
    "## Select statement\n",
    "The select statement is used to select data from a particular table. If you want to select all the columns of the data from a table, you can use the `asterisk (*)`. "
   ]
  },
  {
   "cell_type": "markdown",
   "metadata": {},
   "source": [
    "In SQLite3, the **SELECT** statement is executed in the execute method of the cursor object. For example, select all the columns of the employees’ table, run the following code:\n",
    "\n",
    "```sql\n",
    "cursorObj.execute('SELECT * FROM employees ')\n",
    "```\n",
    "\n",
    "### Select * and Fetchall\n",
    "The select statement selects the required data from the database table and if you want to fetch the selected data, the `fetchall()` method of the cursor object is used. \n",
    "\n",
    "```python\n",
    "# Select all column in table emplyees and fetch all rows\n",
    "cursorObj.execute(\"SELECT * FROM employees\")\n",
    "cursorObj.fetchall()\n",
    "```"
   ]
  },
  {
   "cell_type": "code",
   "execution_count": 38,
   "metadata": {},
   "outputs": [
    {
     "data": {
      "text/plain": [
       "[(1, 'Michale', 600.0, 'HR', 'Manager', '2017-01-04'),\n",
       " (2, 'Rogers', 800.0, 'IT', 'Tech', '2018-02-06'),\n",
       " (3, 'Phillip', 750.0, 'Finance', 'Accounting', '2016-05-12'),\n",
       " (4, 'Andreas', 650.0, 'HR', 'Admin', '2018-08-22'),\n",
       " (5, 'Trias', 920.0, 'Tech', 'Manager', '2012-01-29')]"
      ]
     },
     "execution_count": 38,
     "metadata": {},
     "output_type": "execute_result"
    }
   ],
   "source": [
    "cursorobj.execute(\"SELECT * FROM employees\")\n",
    "cursorobj.fetchall()"
   ]
  },
  {
   "cell_type": "code",
   "execution_count": null,
   "metadata": {},
   "outputs": [],
   "source": []
  },
  {
   "cell_type": "code",
   "execution_count": null,
   "metadata": {},
   "outputs": [],
   "source": []
  },
  {
   "cell_type": "markdown",
   "metadata": {},
   "source": [
    "### Select some columns and Fetchone\n",
    "\n",
    "If you want to select a few columns from a table then specify the columns like the following:\n",
    "For example,\n",
    "```sql\n",
    "cursorObj.execute('SELECT id, name FROM employees')\n",
    "```\n",
    "Then to fetch only one rows of the query, we can use `fetchone()`\n",
    "\n",
    "```python\n",
    "# Select column id & name and fetch ony the first row\n",
    "cursorObj.execute(\"SELECT id, name FROM employees\")\n",
    "cursorObj.fetchone()\n",
    "```"
   ]
  },
  {
   "cell_type": "code",
   "execution_count": 39,
   "metadata": {},
   "outputs": [
    {
     "data": {
      "text/plain": [
       "(1, 'Michale', 600.0, 'HR', 'Manager', '2017-01-04')"
      ]
     },
     "execution_count": 39,
     "metadata": {},
     "output_type": "execute_result"
    }
   ],
   "source": [
    "cursorobj.execute(\"SELECT * FROM employees\")\n",
    "cursorobj.fetchone()"
   ]
  },
  {
   "cell_type": "markdown",
   "metadata": {},
   "source": [
    "## Count Row of Query\n",
    "\n",
    "**To Do:** Count total rows of table employees"
   ]
  },
  {
   "cell_type": "code",
   "execution_count": 40,
   "metadata": {},
   "outputs": [
    {
     "data": {
      "text/plain": [
       "[(5,)]"
      ]
     },
     "execution_count": 40,
     "metadata": {},
     "output_type": "execute_result"
    }
   ],
   "source": [
    "cursorobj.execute(\"SELECT count(*) FROM employees\")\n",
    "cursorobj.fetchall()"
   ]
  },
  {
   "attachments": {},
   "cell_type": "markdown",
   "metadata": {},
   "source": [
    "## Auto increment SQLite"
   ]
  },
  {
   "cell_type": "code",
   "execution_count": 1,
   "metadata": {},
   "outputs": [],
   "source": [
    "import sqlite3\n",
    "conn = sqlite3.connect('database/test_autoincrement.db')\n",
    "cursorobj = conn.cursor()\n",
    "\n",
    "cursorobj.execute(\"CREATE TABLE employees(id integer PRIMARY KEY, name text, salary real, department txt, position text, hiredDate text)\")\n",
    "conn.commit()\n",
    "\n",
    "entities = [('Phillip', 750, 'Finance', 'Accounting', '2016-05-12'),\n",
    "            ('Andreas', 650, 'HR', 'Admin', '2018-08-22'),\n",
    "            ('Trias', 920, 'Tech', 'Manager', '2012-01-29')]\n",
    "\n",
    "# Execute INSERT statement inside loop\n",
    "for entity in entities:\n",
    "    cursorobj.execute('''INSERT INTO employees(name, salary, department, position, hiredDate) VALUES(?, ?, ?, ?, ?)''', \n",
    "                      entity)\n",
    "    conn.commit()"
   ]
  },
  {
   "attachments": {},
   "cell_type": "markdown",
   "metadata": {},
   "source": [
    "## Read csv column with looping"
   ]
  },
  {
   "cell_type": "code",
   "execution_count": 4,
   "metadata": {},
   "outputs": [
    {
     "name": "stdout",
     "output_type": "stream",
     "text": [
      "['alay', 'ampas', 'buta', 'keparat', 'anjing', 'anjir', 'babi', 'bacot', 'bajingan', 'banci', 'bandot', 'buaya', 'bangkai', 'bangsat', 'bego', 'bejat', 'bencong', 'berak', 'bisu', 'celeng', 'jancuk', 'bodoh', 'berengsek', 'budek', 'burik', 'jamban', 'cocot', 'congor', 'culun', 'cupu', 'dongok', 'dungu', 'edan', 'tai', 'ngewe', 'geblek', 'gembel', 'gila', 'goblok', 'iblis', 'idiot', 'jablay', 'jembud', 'jembut', 'jijik', 'kacrut', 'kafir', 'modar', 'kampang', 'kampret', 'kampungan', 'kimak', 'kontol', 'kunti', 'tuyul', 'kunyuk', 'mampus', 'memek', 'monyet', 'najis', 'nete', 'ngentot', 'noob', 'pecun', 'perek', 'sampah', 'sarap', 'setan', 'silit', 'bokong', 'sinting', 'sompret', 'sontoloyo', 'terkutuk', 'titit', 'pantat', 'tolol', 'udik', 'antek', 'asing', 'ateis', 'sitip', 'autis', 'picek', 'ayam kampus', 'bani kotak', 'bispak', 'bisyar', 'bokep', 'bong', 'cacat', 'cct', 'cebong', 'taplak', 'cungkring', 'gay', 'gembrot', 'gendut', 'hina', 'homo', 'komunis', 'koreng', 'krempeng', 'lengser', 'lesbi', 'lgbt', 'lonte', 'mucikari', 'munafik', 'ngaceng', 'nista', 'kejam', 'onta', 'panastak', 'panasbung', 'bani', 'pasukan nasi', 'porno', 'seks', 'rejim', 'rezim', 'sange', 'serbet', 'sipit', 'transgender']\n"
     ]
    }
   ],
   "source": [
    "import pandas as pd\n",
    "\n",
    "data = pd.read_csv(\"/Users/itdeveloper/Documents/Binar_DS_bootcamp/DSC-Repository/Challange GOLD/abusive.csv\")\n",
    "\n",
    "abusive_list = data['ABUSIVE'].tolist()\n",
    "\n",
    "abusive_arr = []\n",
    "\n",
    "for i, abusive_df in enumerate(abusive_list):\n",
    "    abusive_arr.append(abusive_df)\n",
    "\n",
    "print(abusive_arr)"
   ]
  }
 ],
 "metadata": {
  "kernelspec": {
   "display_name": "binar-env",
   "language": "python",
   "name": "python3"
  },
  "language_info": {
   "codemirror_mode": {
    "name": "ipython",
    "version": 3
   },
   "file_extension": ".py",
   "mimetype": "text/x-python",
   "name": "python",
   "nbconvert_exporter": "python",
   "pygments_lexer": "ipython3",
   "version": "3.8.2"
  },
  "vscode": {
   "interpreter": {
    "hash": "81ced00cb01e31746b1a2fbc2625303b99df6bd10e2b526a0f11b7fa931dfaeb"
   }
  }
 },
 "nbformat": 4,
 "nbformat_minor": 4
}
